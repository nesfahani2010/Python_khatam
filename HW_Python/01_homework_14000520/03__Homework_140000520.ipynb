{
 "cells": [
  {
   "cell_type": "markdown",
   "metadata": {
    "pycharm": {
     "name": "#%% md\n"
    }
   },
   "source": [
    "# 1. Basic Calculator\n",
    "> 1. complete following functions and use them in the main function.\\\n",
    ">> 1. add(x, y)\n",
    ">> 2. subtract(x, y)\n",
    ">> 3. multiply(x, y)\n",
    ">> 4. divide(x, y)\n",
    "\n",
    "\n",
    "Example of output:\n",
    "> Select an operator:\n",
    "> 1.Add\n",
    "> 2.Subtract\n",
    "> 3.Multiply\n",
    "> 4.Divide\n",
    "> Enter your choice(1/23/4): 3\n",
    "> Enter first number: 10\n",
    "> Enter second number: 5\n",
    "> 10.0 * 5.0 = 50.0\n",
    "> Leave the program?(y/n): n"
   ]
  },
  {
   "cell_type": "code",
   "execution_count": 97,
   "metadata": {
    "pycharm": {
     "name": "#%%\n"
    }
   },
   "outputs": [
    {
     "name": "stdout",
     "output_type": "stream",
     "text": [
      "30 10 200 2.0\n"
     ]
    }
   ],
   "source": [
    "def my_add(x,y):\n",
    "    return x+y\n",
    "\n",
    "def my_subtract(x,y):\n",
    "    return x-y\n",
    "\n",
    "def my_multiply(x,y):\n",
    "    return x*y\n",
    "\n",
    "def my_divide(x,y):\n",
    "    return x/y\n",
    "\n",
    "x=20; y=10\n",
    "\n",
    "print(my_add(x,y),my_subtract(x,y),my_multiply(x,y),my_divide(x,y))"
   ]
  },
  {
   "cell_type": "markdown",
   "metadata": {
    "pycharm": {
     "name": "#%% md\n"
    }
   },
   "source": [
    "# 2. Mean Median and Mode\n",
    "> complete following functions and use them in the main function.\n",
    ">> 1. mean(numbers)\n",
    ">> 2. median(numbers)\n",
    ">> 3. mode(numbers)"
   ]
  },
  {
   "cell_type": "code",
   "execution_count": 94,
   "metadata": {
    "pycharm": {
     "name": "#%%\n"
    }
   },
   "outputs": [
    {
     "name": "stdout",
     "output_type": "stream",
     "text": [
      "16.666666666666668 15.0 {10}\n"
     ]
    }
   ],
   "source": [
    "def my_mean(numbers):\n",
    "    return sum(numbers) / len(numbers)\n",
    "\n",
    "def my_median(numbers):\n",
    "    n = len(numbers)\n",
    "    index = n // 2\n",
    "    if n % 2:\n",
    "        return numbers[index]\n",
    "    return sum(numbers[index - 1:index + 1]) / 2\n",
    "\n",
    "def my_mode(numbers):\n",
    "    List1=[]\n",
    "    i = 0\n",
    "    while i < len(numbers) :\n",
    "        List1.append(numbers.count(numbers[i]))\n",
    "        i += 1\n",
    "    d1 = dict(zip(numbers, List1))                        #example: a=[1,2] , b=[a,b] then zip(a,b)=((1,a),(2,b))\n",
    "    d2={k for (k,v) in d1.items() if v == max(List1) }    #example: d1 = {10:3,20:2,30:1} for (k=10,v=3), v=3 is max(list1) then k=10\n",
    "    return str(d2)\n",
    "\n",
    "    \n",
    "\n",
    "numbers = [10,10,10,20,20,30]\n",
    "numbers.sort()\n",
    "print(my_mean(numbers),my_median(numbers),my_mode(numbers))"
   ]
  },
  {
   "cell_type": "markdown",
   "metadata": {
    "pycharm": {
     "name": "#%% md\n"
    }
   },
   "source": [
    "# 3. Age Calculator\n",
    "> you need two dates:\n",
    ">> 1. birth date (ask user for input)\n",
    ">> 2. current date\n",
    "\n",
    "complete following function and use it in the main function.\n",
    "> age_calculator(birth_date, current_date)"
   ]
  },
  {
   "cell_type": "code",
   "execution_count": 204,
   "metadata": {
    "pycharm": {
     "name": "#%%\n"
    }
   },
   "outputs": [
    {
     "name": "stdout",
     "output_type": "stream",
     "text": [
      "enter your DOB as yyyy,mm,dd:1991,07,17\n",
      "enter tody date as yyyy,mm,dd:2022,08,13\n",
      "31\n"
     ]
    }
   ],
   "source": [
    "from datetime import date\n",
    "def age_calculator(birth_date, current_date):\n",
    "    age = current_date.year - birth_date.year\n",
    "    months = current_date.month - birth_date.month\n",
    "    if months >= 6 :\n",
    "         age += 1\n",
    "    elif months <= -6 :\n",
    "         age -= 1\n",
    "    print(age) \n",
    "            \n",
    "\n",
    "y,m,d =input(\"enter your DOB as yyyy,mm,dd:\").split(\",\")\n",
    "y0,m0,d0 =input(\"enter tody date as yyyy,mm,dd:\").split(\",\")\n",
    "\n",
    "birth_date = date(year = int(y), month= int(m), day = int(d))\n",
    "current_date = date(year = int(y0), month= int(m0), day = int(d0))\n",
    "age_calculator(birth_date, current_date)"
   ]
  },
  {
   "cell_type": "markdown",
   "metadata": {
    "pycharm": {
     "name": "#%% md\n"
    }
   },
   "source": [
    "# 4. Write a program that computes the net amount of a bank account based a transaction log from console input.\n",
    "> The transaction log format is shown as following:\n",
    ">> D 100\n",
    ">> W 200\n",
    "\n",
    "**(D means deposit while W means withdrawal.)**\n",
    "\n",
    "</br>\n",
    "\n",
    "Suppose the following input is supplied to the program:\n",
    ">> D 300\n",
    ">> D 300\n",
    ">> W 200\n",
    ">> D 100\n",
    ">> resault : 500"
   ]
  },
  {
   "cell_type": "code",
   "execution_count": 206,
   "metadata": {
    "pycharm": {
     "name": "#%%\n"
    }
   },
   "outputs": [
    {
     "name": "stdout",
     "output_type": "stream",
     "text": [
      "enter the amount to deposite/withdraw: D 300\n",
      "Do you want to make any transaction?y\n",
      "enter the amount to deposite/withdraw: D 300\n",
      "Do you want to make any transaction?y\n",
      "enter the amount to deposite/withdraw: W 200\n",
      "Do you want to make any transaction?y\n",
      "enter the amount to deposite/withdraw: D 100\n",
      "Do you want to make any transaction?n\n",
      "rsult: 500\n"
     ]
    }
   ],
   "source": [
    "ans = 'y'\n",
    "netAmount =0\n",
    "    \n",
    "while ans == 'y':\n",
    "    s = input(\"enter the amount to deposite/withdraw: \")\n",
    "    values = s.split(\" \")\n",
    "    operation = values[0]\n",
    "    amount = int(values[1])\n",
    "    \n",
    "    if operation==\"D\":\n",
    "        netAmount+=amount\n",
    "    elif operation==\"W\":\n",
    "        netAmount-=amount\n",
    "        \n",
    "        if (netAmount-amount) < 0:\n",
    "            print(\"You are not eligible to withdraw that much money!\")\n",
    "            netAmount+=amount\n",
    "    else:\n",
    "        pass\n",
    "    ans = input('Do you want to make any transaction?')\n",
    "\n",
    "print('rsult:',netAmount)"
   ]
  },
  {
   "cell_type": "markdown",
   "metadata": {
    "pycharm": {
     "name": "#%% md\n"
    }
   },
   "source": [
    "# 5. Please write a program to output a random even number between 0 and 10 inclusive using random module and list comprehension."
   ]
  },
  {
   "cell_type": "code",
   "execution_count": 203,
   "metadata": {
    "pycharm": {
     "name": "#%%\n"
    }
   },
   "outputs": [
    {
     "name": "stdout",
     "output_type": "stream",
     "text": [
      "[8]\n",
      "[2]\n",
      "6\n"
     ]
    }
   ],
   "source": [
    "#method_1\n",
    "import random\n",
    "print(random.sample([i for i in range(1,10) if i % 2 == 0], 1))\n",
    "\n",
    "#method_2\n",
    "from random import sample\n",
    "print(sample([i for i in range(1,10) if i % 2 == 0], 1)) \n",
    "\n",
    "\n",
    "#method_3\n",
    "x = 1 \n",
    "while x % 2 != 0:\n",
    "    x =random.randint(1,10)\n",
    "print(x)\n"
   ]
  },
  {
   "cell_type": "markdown",
   "metadata": {
    "pycharm": {
     "name": "#%% md\n"
    }
   },
   "source": [
    "# 6. Please write a program to shuffle and print the list [3,6,7,8].\n",
    "> (use random module.)"
   ]
  },
  {
   "cell_type": "code",
   "execution_count": 207,
   "metadata": {
    "pycharm": {
     "name": "#%%\n"
    }
   },
   "outputs": [
    {
     "name": "stdout",
     "output_type": "stream",
     "text": [
      "[8, 3, 7, 6]\n"
     ]
    }
   ],
   "source": [
    "#Shuffle a list (reorganize the order of the list items)\n",
    "from random import shuffle\n",
    "numbers = [3,6,7,8]\n",
    "shuffle(numbers)\n",
    "print(numbers)"
   ]
  },
  {
   "cell_type": "markdown",
   "metadata": {
    "pycharm": {
     "name": "#%% md\n"
    }
   },
   "source": [
    "# 7. lease write a program to print the list after removing delete even numbers in [5,6,77,45,22,12,24].\n",
    "> (use list comprehension to delete a bunch of element from a list.)"
   ]
  },
  {
   "cell_type": "code",
   "execution_count": 182,
   "metadata": {
    "pycharm": {
     "name": "#%%\n"
    }
   },
   "outputs": [
    {
     "name": "stdout",
     "output_type": "stream",
     "text": [
      "[5, 77, 45]\n"
     ]
    }
   ],
   "source": [
    "list1 = [5,6,77,45,22,12,24]\n",
    "list2 = []\n",
    "[list2.append(i) for i in list1 if i%2 != 0 ]\n",
    "print(list2)"
   ]
  },
  {
   "cell_type": "markdown",
   "metadata": {
    "pycharm": {
     "name": "#%% md\n"
    }
   },
   "source": [
    "# 8. With two given lists [1,3,6,78,35,55] and [12,24,35,24,88,120,155], write a program to make a list whose elements are intersection of the above given lists.\n",
    "> (use set)"
   ]
  },
  {
   "cell_type": "code",
   "execution_count": 208,
   "metadata": {
    "pycharm": {
     "name": "#%%\n"
    }
   },
   "outputs": [
    {
     "name": "stdout",
     "output_type": "stream",
     "text": [
      "[35]\n"
     ]
    }
   ],
   "source": [
    "list1 = [1,3,6,78,35,55]  \n",
    "list2 = [12,24,35,24,88,120,155] \n",
    "list3 = list(set(list1) & set(list2))\n",
    "print(list3)"
   ]
  },
  {
   "cell_type": "markdown",
   "metadata": {
    "pycharm": {
     "name": "#%% md\n"
    }
   },
   "source": [
    "# 9. Please write a program to generate a list with 5 random numbers between 100 and 200 inclusive."
   ]
  },
  {
   "cell_type": "code",
   "execution_count": 192,
   "metadata": {
    "pycharm": {
     "name": "#%%\n"
    },
    "scrolled": true
   },
   "outputs": [
    {
     "name": "stdout",
     "output_type": "stream",
     "text": [
      "[104, 120, 134, 184, 189]\n",
      "[169, 136, 162, 152, 184]\n"
     ]
    }
   ],
   "source": [
    "#method_1\n",
    "import random\n",
    "print(random.sample([i for i in range(100,200)], 5))\n",
    "\n",
    "#method_2\n",
    "from random import sample\n",
    "print(sample([i for i in range(100,200)], 5))"
   ]
  }
 ],
 "metadata": {
  "kernelspec": {
   "display_name": "Python 3 (ipykernel)",
   "language": "python",
   "name": "python3"
  },
  "language_info": {
   "codemirror_mode": {
    "name": "ipython",
    "version": 3
   },
   "file_extension": ".py",
   "mimetype": "text/x-python",
   "name": "python",
   "nbconvert_exporter": "python",
   "pygments_lexer": "ipython3",
   "version": "3.9.7"
  }
 },
 "nbformat": 4,
 "nbformat_minor": 1
}
