{
 "cells": [
  {
   "cell_type": "markdown",
   "metadata": {
    "pycharm": {
     "name": "#%% md\n"
    }
   },
   "source": [
    "# 1. Given a list of integers with duplicate elements in it. The task to generate another list, which contains only the duplicate elements.\n",
    ">In simple words, the new list should contain the elements which appear more than one.\n",
    ">> Input : list = [10, 20, 30, 20, 20, 30, 40, 50, -20, 60, 60, -20, -20]\n",
    ">>Output : output_list = [20, 30, -20, 60]"
   ]
  },
  {
   "cell_type": "code",
   "execution_count": 1,
   "metadata": {
    "pycharm": {
     "name": "#%%\n"
    }
   },
   "outputs": [
    {
     "name": "stdout",
     "output_type": "stream",
     "text": [
      "[20, -20, 30, 60]\n"
     ]
    }
   ],
   "source": [
    "list1 =  [10, 20, 30, 20, 20, 30, 40, 50, -20, 60, 60, -20, -20] \n",
    "list2 =list(set([i for i in list1 if list1.count(i) > 1]))\n",
    "print (list2)"
   ]
  },
  {
   "cell_type": "markdown",
   "metadata": {
    "pycharm": {
     "name": "#%% md\n"
    }
   },
   "source": [
    "# 2. Program to display the Fibonacci sequence up to n-th term where n is provided by the user.\n",
    "> A Fibonacci sequence is the integer sequence of 0, 1, 1, 2, 3, 5, 8....\n",
    ">> Input : n = 7\n",
    ">> Output : 0 1 1 2 3 5 8"
   ]
  },
  {
   "cell_type": "code",
   "execution_count": 2,
   "metadata": {
    "pycharm": {
     "name": "#%%\n"
    }
   },
   "outputs": [
    {
     "name": "stdout",
     "output_type": "stream",
     "text": [
      "Enter your number:\n",
      "7\n",
      "0 1 1 2 3 5 8 "
     ]
    }
   ],
   "source": [
    "print('Enter your number:')\n",
    "n = int(input())\n",
    "fibo = 1\n",
    "a = 0   #first term\n",
    "b = 1   #second term\n",
    "print(0, end=' ')\n",
    "    \n",
    "for i in range(n-1):\n",
    "    print(fibo, end=' ')\n",
    "    fibo = a + b\n",
    "    a = b\n",
    "    b = fibo"
   ]
  },
  {
   "cell_type": "markdown",
   "metadata": {
    "pycharm": {
     "name": "#%% md\n"
    }
   },
   "source": []
  },
  {
   "cell_type": "markdown",
   "metadata": {
    "pycharm": {
     "name": "#%% md\n"
    }
   },
   "source": [
    "# 3. Python Program to Find the Factorial of a Number.\n",
    "> The factorial of a number is the product of all integers from 1 to n.\n",
    ">> For example, the factorial of 6 is 1*2*3*4*5*6 = 720.\n",
    ">>Factorial is not defined for negative numbers, and the factorial of zero is one, 0! = 1."
   ]
  },
  {
   "cell_type": "code",
   "execution_count": 3,
   "metadata": {
    "pycharm": {
     "name": "#%%\n"
    }
   },
   "outputs": [
    {
     "name": "stdout",
     "output_type": "stream",
     "text": [
      "Enter your number:\n",
      "6\n",
      "The factorial of 6 is 720\n"
     ]
    }
   ],
   "source": [
    "print('Enter your number:')\n",
    "n = int(input())\n",
    "factorial = 1\n",
    "\n",
    "if n < 0:\n",
    "    print(\"ۤFactorial does not exist for negative numbers\")\n",
    "elif n == 0:\n",
    "    print(\"The factorial of 0 is\", factorial)\n",
    "else:\n",
    "    for i in range(1,n + 1):\n",
    "        factorial = factorial*i\n",
    "    print(\"The factorial of\",n,\"is\",factorial)"
   ]
  },
  {
   "cell_type": "markdown",
   "metadata": {
    "pycharm": {
     "name": "#%% md\n"
    }
   },
   "source": [
    "# 4. Matrix Addition using Nested List Comprehension"
   ]
  },
  {
   "cell_type": "code",
   "execution_count": 4,
   "metadata": {
    "pycharm": {
     "name": "#%%\n"
    }
   },
   "outputs": [
    {
     "name": "stdout",
     "output_type": "stream",
     "text": [
      "[17, 15, 4]\n",
      "[10, 12, 9]\n",
      "[11, 13, 18]\n"
     ]
    }
   ],
   "source": [
    "X = [[12,7,3], [4 ,5,6], [7 ,8,9]] \n",
    "Y = [[5,8,1,2], [6,7,3,0], [4,5,9,1]]\n",
    "\n",
    "result = [[X[i][j] + Y[i][j]  for j in range(len(X[0]))] for i in range(len(X))]\n",
    "for r in result: print(r)"
   ]
  },
  {
   "cell_type": "markdown",
   "metadata": {
    "pycharm": {
     "name": "#%% md\n"
    }
   },
   "source": [
    "# 5. Python Program to Multiply Two Matrices\n",
    ">3x3 matrix\n",
    ">>X = [[12,7,3],\n",
    ">>    [4 ,5,6],\n",
    ">>    [7 ,8,9]]\n",
    "<br/>\n",
    "\n",
    "> 3x4 matrix\n",
    ">>Y = [[5,8,1,2],\n",
    ">>    [6,7,3,0],\n",
    ">>    [4,5,9,1]]"
   ]
  },
  {
   "cell_type": "code",
   "execution_count": 5,
   "metadata": {
    "pycharm": {
     "name": "#%%\n"
    }
   },
   "outputs": [
    {
     "name": "stdout",
     "output_type": "stream",
     "text": [
      "[114, 160, 60, 27]\n",
      "[74, 97, 73, 14]\n",
      "[119, 157, 112, 23]\n"
     ]
    }
   ],
   "source": [
    "X = [[12,7,3],[4,5,6],[7,8,9]]\n",
    "Y = [[5,8,1,2],[6,7,3,0],[4,5,9,1]]\n",
    "result = [[0,0,0,0],[0,0,0,0],[0,0,0,0]]\n",
    "\n",
    "for i in range(len(X)):\n",
    "    for j in range(len(Y[0])):\n",
    "        for k in range(len(Y)):\n",
    "            result[i][j] += X[i][k] * Y[k][j]\n",
    "\n",
    "for r in result:print(r)"
   ]
  },
  {
   "cell_type": "markdown",
   "metadata": {
    "pycharm": {
     "name": "#%% md\n"
    }
   },
   "source": [
    "# 6. python program to emplement folling output:\n",
    "\n",
    ">Enter a number: 4\n",
    ">Enter a number: 5\n",
    ">Enter a number: bad data\n",
    ">Invalid input\n",
    ">Enter a number: 7\n",
    ">Enter a number: done\n",
    ">sum:16 count:3  average:5.333333333333333"
   ]
  },
  {
   "cell_type": "code",
   "execution_count": 7,
   "metadata": {
    "pycharm": {
     "name": "#%%\n"
    }
   },
   "outputs": [
    {
     "name": "stdout",
     "output_type": "stream",
     "text": [
      "Enter a number: 4\n",
      "Enter a number: 5\n",
      "Enter a number: 7\n",
      "Enter a number: lol\n",
      "Invalid input.\n",
      "Enter a number: done\n",
      "sum: 16.0 count: 3 average: 5.333333333333333\n"
     ]
    }
   ],
   "source": [
    "sume = 0\n",
    "count = 0\n",
    "average = 0\n",
    "\n",
    "while True:\n",
    "    try:\n",
    "        x = input(\"Enter a number: \")\n",
    "        if (x == \"done\"): \n",
    "            break\n",
    "        value = float(x)\n",
    "        sume = value + sume\n",
    "        count = count + 1\n",
    "        average = sume / count\n",
    "    except:\n",
    "        print(\"Invalid input.\")\n",
    "print ('sum:',sume,'count:', count,'average:',average)"
   ]
  },
  {
   "cell_type": "markdown",
   "metadata": {
    "pycharm": {
     "name": "#%% md\n"
    }
   },
   "source": [
    "# 7. Python Program to Find Sum of 10 Numbers and Skip Negative Numbers"
   ]
  },
  {
   "cell_type": "code",
   "execution_count": 8,
   "metadata": {
    "pycharm": {
     "name": "#%%\n"
    }
   },
   "outputs": [
    {
     "name": "stdout",
     "output_type": "stream",
     "text": [
      "Please enter a number: 1\n",
      "Please enter a number: 1\n",
      "Please enter a number: 1\n",
      "Please enter a number: 1\n",
      "Please enter a number: -1\n",
      "Please enter a number: -1\n",
      "Please enter a number: -1\n",
      "Please enter a number: -1\n",
      "Please enter a number: -1\n",
      "Please enter a number: -1\n",
      "4\n"
     ]
    }
   ],
   "source": [
    "sume = 0\n",
    "count = 0\n",
    "while count < 10:\n",
    "    number = int(input(\"Please enter a number: \"))\n",
    "    count += 1\n",
    "    if number>0: sume = sume+number \n",
    "print(sume)"
   ]
  },
  {
   "cell_type": "markdown",
   "metadata": {
    "pycharm": {
     "name": "#%% md\n"
    }
   },
   "source": [
    "# 8. Python Program to Count Number of Digits in a Number using While Loop\n",
    "> Input: 9875\n",
    "> Output:  Number of Digits in a Given Number = 4"
   ]
  },
  {
   "cell_type": "code",
   "execution_count": 9,
   "metadata": {
    "pycharm": {
     "name": "#%%\n"
    }
   },
   "outputs": [
    {
     "name": "stdout",
     "output_type": "stream",
     "text": [
      "Enter number:9875\n",
      "Number of Digits in a Given Number are= 4\n"
     ]
    }
   ],
   "source": [
    "number = int(input(\"Enter number:\"))\n",
    "count = 0\n",
    "\n",
    "while( number > 0):\n",
    "    count = count + 1\n",
    "    number = number//10\n",
    "print(\"Number of Digits in a Given Number are=\",count)"
   ]
  },
  {
   "cell_type": "markdown",
   "metadata": {
    "pycharm": {
     "name": "#%% md\n"
    }
   },
   "source": [
    "# 9. Python Program to Sum of Digits in a Number using While Loop\n",
    ">Input: 9875\n",
    "> Output: Sum of Digits in a Given Number = 29"
   ]
  },
  {
   "cell_type": "code",
   "execution_count": 10,
   "metadata": {
    "pycharm": {
     "name": "#%%\n"
    }
   },
   "outputs": [
    {
     "name": "stdout",
     "output_type": "stream",
     "text": [
      "Enter number:9875\n",
      "Sum of Digits in a Given Number is: 29\n"
     ]
    }
   ],
   "source": [
    "number = int(input(\"Enter number:\"))\n",
    "sume = 0\n",
    "\n",
    "while( number >0 ):\n",
    "    sume = sume + number%10\n",
    "    number = number//10\n",
    "    \n",
    "print(\"Sum of Digits in a Given Number is:\",sume)"
   ]
  },
  {
   "cell_type": "code",
   "execution_count": null,
   "metadata": {},
   "outputs": [],
   "source": []
  }
 ],
 "metadata": {
  "kernelspec": {
   "display_name": "Python 3 (ipykernel)",
   "language": "python",
   "name": "python3"
  },
  "language_info": {
   "codemirror_mode": {
    "name": "ipython",
    "version": 3
   },
   "file_extension": ".py",
   "mimetype": "text/x-python",
   "name": "python",
   "nbconvert_exporter": "python",
   "pygments_lexer": "ipython3",
   "version": "3.9.7"
  }
 },
 "nbformat": 4,
 "nbformat_minor": 1
}
