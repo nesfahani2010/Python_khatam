{
 "cells": [
  {
   "cell_type": "markdown",
   "metadata": {
    "pycharm": {
     "name": "#%% md\n"
    }
   },
   "source": [
    "# Q1\n",
    "> In _priceList.txt_ :\n",
    ">> the first line will contain the number of items in the file.\n",
    ">> Each subsequent line will contain:\n",
    ">>> the name of an item (as a string without spaces),\n",
    ">>> the cost of the item from Amazon (represented as a double),\n",
    ">>> the cost of the item from HyVee (represented as a double),\n",
    ">>>> like this: *itemName* *[amazonPrice]* *[hyveePrice]*\n",
    "\n",
    "</br>\n",
    "\n",
    "> Write a program to read the info contained in the *_priceList.txt_* file:  </br>\n",
    ">> 1. find the price for oatmeal at each store, and display the price difference between Amazon and HyVee.\n",
    ">> 2. separate the items that cost less than _$5_ from the items that cost more than _$5_.\n",
    ">> 3. display the names of the items that cost less than _$5_ and the names of the items that cost more than _$5_.\n",
    ">> 4. display the total number of items that cost less than _$5_ and the total number of items that cost more than _$5_."
   ]
  },
  {
   "cell_type": "code",
   "execution_count": 71,
   "metadata": {
    "pycharm": {
     "name": "#%%\n"
    }
   },
   "outputs": [
    {
     "name": "stdout",
     "output_type": "stream",
     "text": [
      "the price difference between Amazon and HyVee is: 0.6000000000000001\n",
      "\n",
      "There are 7 items cost more then 5$:\n",
      "1 . cashews\n",
      "2 . crackers_goldfish\n",
      "3 . diapers_huggies\n",
      "4 . paper_towels\n",
      "5 . peanut_butter_jif\n",
      "6 . sunscreen_neutrogena_ultra_sheer\n",
      "7 . trash_bags_kitchen\n",
      "\n",
      "There are 5 items cost less then 5$:\n",
      "1 . cookies_pepperidge_farm_milano\n",
      "2 . crackers_ritz\n",
      "3 . deodorant_dove\n",
      "4 . oatmeal\n",
      "5 . ziploc_gallon_bags\n"
     ]
    }
   ],
   "source": [
    "f = open(\"priceList.txt\",\"r\",encoding = 'utf-8')\n",
    "cost_less = []\n",
    "cost_more = []\n",
    "\n",
    "#part_1\n",
    "for line in f:\n",
    "    if line.startswith('oatmeal'):\n",
    "        line2 = line.split(' ')\n",
    "        amazonPrice = float(line2[1])\n",
    "        hyveePrice = float(line2[2])\n",
    "        print('the price difference between Amazon and HyVee is:',abs(amazonPrice -hyveePrice))\n",
    "#part_2    \n",
    "    line2 = line.split(' ')\n",
    "    if len(line2) > 1:\n",
    "        cost = float(line2[1]) \n",
    "        if cost > 5 : cost_more.append(line2[0])  \n",
    "        else: cost_less.append(line2[0])      \n",
    "\n",
    "#part_3\n",
    "print ('\\nThere are', len(cost_more),'items cost more then 5$:')\n",
    "for i in range(len(cost_more)): print(i+1,'.',cost_more[i])\n",
    "print ('\\nThere are', len(cost_less),'items cost less then 5$:')\n",
    "for i in range(len(cost_less)): print(i+1,'.',cost_less[i])\n",
    "    \n",
    "f.close()"
   ]
  },
  {
   "cell_type": "markdown",
   "metadata": {
    "pycharm": {
     "name": "#%% md\n"
    }
   },
   "source": [
    "# Q2\n",
    "> Write a program that get information from the user and write it to the *_info.txt_* file.\n",
    ">> The program should ask the user for the following information:\n",
    ">>> 1. the name of the person\n",
    ">>> 2. birth date\n",
    ">>> 3. phone number\n",
    ">>> 4. email address\n",
    ">>> 5. address\n",
    ">>> 6. city\n",
    ">>> 7. National ID number\n",
    "\n",
    "Note: info should be written in the following format(each line is a separate record and info should be separated by spaces):\n",
    "> *name* *[birthDate]* *[phoneNumber]* *[emailAddress]* *[address]* *[city]* *[nationalID]*"
   ]
  },
  {
   "cell_type": "code",
   "execution_count": 125,
   "metadata": {
    "pycharm": {
     "name": "#%%\n"
    }
   },
   "outputs": [
    {
     "name": "stdout",
     "output_type": "stream",
     "text": [
      "Please enter your Name:\n",
      "nastaran\n",
      "Please enter your birth date:\n",
      "2020\n",
      "Please enter your phone number\n",
      "09128745698\n",
      "Please enter your email address:\n",
      "n@gmail.com\n",
      "Please enter your address:\n",
      "Tehran,Iran\n",
      "Please enter your city:\n",
      "Tehran\n",
      "Please enter your National ID number:\n",
      "0012345678\n"
     ]
    }
   ],
   "source": [
    "data = [ 'Name:','birth date:','phone number','email address:','address:','city:','National ID number:']\n",
    "with open('info.txt', 'w') as f:\n",
    "    \n",
    "    for i in range(7):\n",
    "        print('Please enter your %s' %data[i])\n",
    "        f.write(input())\n",
    "        f.write(' ')\n",
    "f.close()"
   ]
  },
  {
   "cell_type": "markdown",
   "metadata": {
    "pycharm": {
     "name": "#%% md\n"
    }
   },
   "source": [
    "# Q3\n",
    "> Write a program based on output of `Q2` that:\n",
    ">> 1. reads the information from the *_info.txt_* file and display it.\n",
    ">> 2. ask the user for the name of the person and display the information for that person."
   ]
  },
  {
   "cell_type": "code",
   "execution_count": 135,
   "metadata": {},
   "outputs": [
    {
     "name": "stdout",
     "output_type": "stream",
     "text": [
      "nastaran 2020 09128745698 n@gmail.com Tehran,Iran Tehran 0012345678 \n",
      "PLZ enter name of the person:mary\n",
      "There is no such person in our list\n"
     ]
    }
   ],
   "source": [
    "f = open(\"info.txt\",\"r\",encoding = 'utf-8')\n",
    "for line in f:\n",
    "    print(line)\n",
    "    \n",
    "name = input ('PLZ enter the name of person:')\n",
    "x = 'There is no such person in our list'\n",
    "for line in f:\n",
    "    if line.startswith(name): x = line\n",
    "print(x)     \n",
    "\n",
    "f.close()"
   ]
  },
  {
   "cell_type": "code",
   "execution_count": null,
   "metadata": {},
   "outputs": [],
   "source": []
  }
 ],
 "metadata": {
  "kernelspec": {
   "display_name": "Python 3 (ipykernel)",
   "language": "python",
   "name": "python3"
  },
  "language_info": {
   "codemirror_mode": {
    "name": "ipython",
    "version": 3
   },
   "file_extension": ".py",
   "mimetype": "text/x-python",
   "name": "python",
   "nbconvert_exporter": "python",
   "pygments_lexer": "ipython3",
   "version": "3.9.7"
  }
 },
 "nbformat": 4,
 "nbformat_minor": 1
}
